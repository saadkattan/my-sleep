{
  "nbformat": 4,
  "nbformat_minor": 0,
  "metadata": {
    "colab": {
      "name": "my_sleep",
      "version": "0.3.2",
      "provenance": [],
      "include_colab_link": true
    }
  },
  "cells": [
    {
      "cell_type": "markdown",
      "metadata": {
        "id": "view-in-github",
        "colab_type": "text"
      },
      "source": [
        "[View in Colaboratory](https://colab.research.google.com/github/saadkattan/my-sleep/blob/master/my-sleep.ipynb)"
      ]
    },
    {
      "metadata": {
        "id": "N72astqVxtni",
        "colab_type": "code",
        "colab": {
          "base_uri": "https://localhost:8080/",
          "height": 561
        },
        "outputId": "28399106-f5c2-4e37-a626-24e6365b53ae"
      },
      "cell_type": "code",
      "source": [
        "import requests\n",
        "import pandas as pd\n",
        "\n",
        "url = \"http://api.aladhan.com/v1/calendarByAddress?address=NYC, New York, USA&method=2&month=08&year=2018\"\n",
        "#The API webpage: https://aladhan.com/prayer-times-api\n",
        "#The API will return values for the whole month targeted. We need to extract Dates, Fajr (which is the start of the day) and Maghrib (which is the end of the day and the start of the night)\n",
        "\n",
        "\n",
        "r=requests.get(url)\n",
        "json_data = r.json()\n",
        "my_month = {}\n",
        "date =[]\n",
        "day_start = []\n",
        "night_start = []\n",
        "\n",
        "for day in json_data[\"data\"]:\n",
        "  date.append(day[\"date\"][\"gregorian\"][\"date\"]) # extract the date and appned it to the list date\n",
        "  day_start.append(day[\"timings\"][\"Fajr\"][:5]) # extract the Fajr time(day_start) append it to day_start list\n",
        "  night_start.append(day[\"timings\"][\"Maghrib\"][:5]) # extract the Maghrib time(the end of the day or night_start) append it to night_start list\n",
        "\n",
        "my_month = {\"date\": date, \"day_start\" : day_start, \"night_start\": night_start} # make a dictionary where keys are date, day_start and night_start. the correpsonding lists are the values. \n",
        "df = pd.DataFrame(my_month) #Make a dateframe of my_month.\n",
        "print(df)\n",
        "  \n",
        "\n",
        "\n"
      ],
      "execution_count": 45,
      "outputs": [
        {
          "output_type": "stream",
          "text": [
            "          date day_start night_start\n",
            "0   01-08-2018     04:24       20:11\n",
            "1   02-08-2018     04:25       20:10\n",
            "2   03-08-2018     04:26       20:09\n",
            "3   04-08-2018     04:28       20:08\n",
            "4   05-08-2018     04:29       20:07\n",
            "5   06-08-2018     04:30       20:06\n",
            "6   07-08-2018     04:32       20:04\n",
            "7   08-08-2018     04:33       20:03\n",
            "8   09-08-2018     04:35       20:02\n",
            "9   10-08-2018     04:36       20:01\n",
            "10  11-08-2018     04:37       19:59\n",
            "11  12-08-2018     04:39       19:58\n",
            "12  13-08-2018     04:40       19:57\n",
            "13  14-08-2018     04:41       19:55\n",
            "14  15-08-2018     04:43       19:54\n",
            "15  16-08-2018     04:44       19:53\n",
            "16  17-08-2018     04:45       19:51\n",
            "17  18-08-2018     04:46       19:50\n",
            "18  19-08-2018     04:48       19:48\n",
            "19  20-08-2018     04:49       19:47\n",
            "20  21-08-2018     04:50       19:45\n",
            "21  22-08-2018     04:52       19:44\n",
            "22  23-08-2018     04:53       19:42\n",
            "23  24-08-2018     04:54       19:41\n",
            "24  25-08-2018     04:55       19:39\n",
            "25  26-08-2018     04:57       19:38\n",
            "26  27-08-2018     04:58       19:36\n",
            "27  28-08-2018     04:59       19:35\n",
            "28  29-08-2018     05:00       19:33\n",
            "29  30-08-2018     05:02       19:31\n",
            "30  31-08-2018     05:03       19:30\n"
          ],
          "name": "stdout"
        }
      ]
    },
    {
      "metadata": {
        "id": "BPrbQ239xOVJ",
        "colab_type": "text"
      },
      "cell_type": "markdown",
      "source": [
        ""
      ]
    },
    {
      "metadata": {
        "id": "Cupq3QW_vYIr",
        "colab_type": "code",
        "colab": {}
      },
      "cell_type": "code",
      "source": [
        ""
      ],
      "execution_count": 0,
      "outputs": []
    }
  ]
}